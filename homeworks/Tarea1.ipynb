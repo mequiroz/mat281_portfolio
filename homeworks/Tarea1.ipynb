{
  "nbformat": 4,
  "nbformat_minor": 0,
  "metadata": {
    "colab": {
      "name": "Tarea1.ipynb",
      "provenance": [],
      "collapsed_sections": []
    },
    "kernelspec": {
      "name": "python3",
      "display_name": "Python 3"
    },
    "language_info": {
      "name": "python"
    }
  },
  "cells": [
    {
      "cell_type": "markdown",
      "metadata": {
        "id": "4gEhc-gmIp0x"
      },
      "source": [
        "# **Tarea 1 Anexos**\n",
        "\n",
        "\n",
        "\n"
      ]
    },
    {
      "cell_type": "markdown",
      "metadata": {
        "id": "jndYqspSjEW1"
      },
      "source": [
        "## **Pregunta 2**"
      ]
    },
    {
      "cell_type": "code",
      "metadata": {
        "id": "79phffJPIidv"
      },
      "source": [
        "import numpy as np\n",
        "import pandas as pd"
      ],
      "execution_count": 1,
      "outputs": []
    },
    {
      "cell_type": "code",
      "metadata": {
        "id": "gGwX6EabJMnB",
        "colab": {
          "base_uri": "https://localhost:8080/",
          "height": 234
        },
        "outputId": "12f73de2-20d4-406d-e8fa-14d4dd37265d"
      },
      "source": [
        "data_dic = {'X1':[0,2,0,0,-1,1],'X2':[3,0,1,1,0,1],'X3':[0,0,3,2,1,1],'Y':['Rojo','Rojo','Rojo','Verde','Verde','Rojo']}\n",
        "\n",
        "datos = pd.DataFrame(data_dic)\n",
        "datos"
      ],
      "execution_count": 3,
      "outputs": [
        {
          "output_type": "execute_result",
          "data": {
            "text/html": [
              "<div>\n",
              "<style scoped>\n",
              "    .dataframe tbody tr th:only-of-type {\n",
              "        vertical-align: middle;\n",
              "    }\n",
              "\n",
              "    .dataframe tbody tr th {\n",
              "        vertical-align: top;\n",
              "    }\n",
              "\n",
              "    .dataframe thead th {\n",
              "        text-align: right;\n",
              "    }\n",
              "</style>\n",
              "<table border=\"1\" class=\"dataframe\">\n",
              "  <thead>\n",
              "    <tr style=\"text-align: right;\">\n",
              "      <th></th>\n",
              "      <th>X1</th>\n",
              "      <th>X2</th>\n",
              "      <th>X3</th>\n",
              "      <th>Y</th>\n",
              "    </tr>\n",
              "  </thead>\n",
              "  <tbody>\n",
              "    <tr>\n",
              "      <th>0</th>\n",
              "      <td>0</td>\n",
              "      <td>3</td>\n",
              "      <td>0</td>\n",
              "      <td>Rojo</td>\n",
              "    </tr>\n",
              "    <tr>\n",
              "      <th>1</th>\n",
              "      <td>2</td>\n",
              "      <td>0</td>\n",
              "      <td>0</td>\n",
              "      <td>Rojo</td>\n",
              "    </tr>\n",
              "    <tr>\n",
              "      <th>2</th>\n",
              "      <td>0</td>\n",
              "      <td>1</td>\n",
              "      <td>3</td>\n",
              "      <td>Rojo</td>\n",
              "    </tr>\n",
              "    <tr>\n",
              "      <th>3</th>\n",
              "      <td>0</td>\n",
              "      <td>1</td>\n",
              "      <td>2</td>\n",
              "      <td>Verde</td>\n",
              "    </tr>\n",
              "    <tr>\n",
              "      <th>4</th>\n",
              "      <td>-1</td>\n",
              "      <td>0</td>\n",
              "      <td>1</td>\n",
              "      <td>Verde</td>\n",
              "    </tr>\n",
              "    <tr>\n",
              "      <th>5</th>\n",
              "      <td>1</td>\n",
              "      <td>1</td>\n",
              "      <td>1</td>\n",
              "      <td>Rojo</td>\n",
              "    </tr>\n",
              "  </tbody>\n",
              "</table>\n",
              "</div>"
            ],
            "text/plain": [
              "   X1  X2  X3      Y\n",
              "0   0   3   0   Rojo\n",
              "1   2   0   0   Rojo\n",
              "2   0   1   3   Rojo\n",
              "3   0   1   2  Verde\n",
              "4  -1   0   1  Verde\n",
              "5   1   1   1   Rojo"
            ]
          },
          "metadata": {},
          "execution_count": 3
        }
      ]
    },
    {
      "cell_type": "code",
      "metadata": {
        "id": "hnCJi31WKW5a",
        "colab": {
          "base_uri": "https://localhost:8080/"
        },
        "outputId": "f0b39939-046d-43c9-ef80-498517c6df86"
      },
      "source": [
        "# Calculo distancia Euclidiana respecto a X1=X2=X3=0\n",
        "datos['DistEucl'] = np.sqrt(datos['X1'].apply(lambda x: (x-0)**2)+datos['X2'].apply(lambda x: (x-0)**2)+datos['X3'].apply(lambda x: (x-0)**2))\n",
        "datos\n",
        "print(datos.to_latex(index=False))"
      ],
      "execution_count": 4,
      "outputs": [
        {
          "output_type": "stream",
          "name": "stdout",
          "text": [
            "\\begin{tabular}{rrrlr}\n",
            "\\toprule\n",
            " X1 &  X2 &  X3 &      Y &  DistEucl \\\\\n",
            "\\midrule\n",
            "  0 &   3 &   0 &   Rojo &  3.000000 \\\\\n",
            "  2 &   0 &   0 &   Rojo &  2.000000 \\\\\n",
            "  0 &   1 &   3 &   Rojo &  3.162278 \\\\\n",
            "  0 &   1 &   2 &  Verde &  2.236068 \\\\\n",
            " -1 &   0 &   1 &  Verde &  1.414214 \\\\\n",
            "  1 &   1 &   1 &   Rojo &  1.732051 \\\\\n",
            "\\bottomrule\n",
            "\\end{tabular}\n",
            "\n"
          ]
        }
      ]
    },
    {
      "cell_type": "code",
      "metadata": {
        "id": "QXS8RoCnI2c_",
        "colab": {
          "base_uri": "https://localhost:8080/",
          "height": 234
        },
        "outputId": "c51c90b7-58b1-4d4b-c7ed-52c21aa03491"
      },
      "source": [
        "# Ordenar los datos de forma creciente\n",
        "new_datos = datos.sort_values('DistEucl')\n",
        "new_datos"
      ],
      "execution_count": 7,
      "outputs": [
        {
          "output_type": "execute_result",
          "data": {
            "text/html": [
              "<div>\n",
              "<style scoped>\n",
              "    .dataframe tbody tr th:only-of-type {\n",
              "        vertical-align: middle;\n",
              "    }\n",
              "\n",
              "    .dataframe tbody tr th {\n",
              "        vertical-align: top;\n",
              "    }\n",
              "\n",
              "    .dataframe thead th {\n",
              "        text-align: right;\n",
              "    }\n",
              "</style>\n",
              "<table border=\"1\" class=\"dataframe\">\n",
              "  <thead>\n",
              "    <tr style=\"text-align: right;\">\n",
              "      <th></th>\n",
              "      <th>X1</th>\n",
              "      <th>X2</th>\n",
              "      <th>X3</th>\n",
              "      <th>Y</th>\n",
              "      <th>DistEucl</th>\n",
              "    </tr>\n",
              "  </thead>\n",
              "  <tbody>\n",
              "    <tr>\n",
              "      <th>4</th>\n",
              "      <td>-1</td>\n",
              "      <td>0</td>\n",
              "      <td>1</td>\n",
              "      <td>Verde</td>\n",
              "      <td>1.414214</td>\n",
              "    </tr>\n",
              "    <tr>\n",
              "      <th>5</th>\n",
              "      <td>1</td>\n",
              "      <td>1</td>\n",
              "      <td>1</td>\n",
              "      <td>Rojo</td>\n",
              "      <td>1.732051</td>\n",
              "    </tr>\n",
              "    <tr>\n",
              "      <th>1</th>\n",
              "      <td>2</td>\n",
              "      <td>0</td>\n",
              "      <td>0</td>\n",
              "      <td>Rojo</td>\n",
              "      <td>2.000000</td>\n",
              "    </tr>\n",
              "    <tr>\n",
              "      <th>3</th>\n",
              "      <td>0</td>\n",
              "      <td>1</td>\n",
              "      <td>2</td>\n",
              "      <td>Verde</td>\n",
              "      <td>2.236068</td>\n",
              "    </tr>\n",
              "    <tr>\n",
              "      <th>0</th>\n",
              "      <td>0</td>\n",
              "      <td>3</td>\n",
              "      <td>0</td>\n",
              "      <td>Rojo</td>\n",
              "      <td>3.000000</td>\n",
              "    </tr>\n",
              "    <tr>\n",
              "      <th>2</th>\n",
              "      <td>0</td>\n",
              "      <td>1</td>\n",
              "      <td>3</td>\n",
              "      <td>Rojo</td>\n",
              "      <td>3.162278</td>\n",
              "    </tr>\n",
              "  </tbody>\n",
              "</table>\n",
              "</div>"
            ],
            "text/plain": [
              "   X1  X2  X3      Y  DistEucl\n",
              "4  -1   0   1  Verde  1.414214\n",
              "5   1   1   1   Rojo  1.732051\n",
              "1   2   0   0   Rojo  2.000000\n",
              "3   0   1   2  Verde  2.236068\n",
              "0   0   3   0   Rojo  3.000000\n",
              "2   0   1   3   Rojo  3.162278"
            ]
          },
          "metadata": {},
          "execution_count": 7
        }
      ]
    },
    {
      "cell_type": "code",
      "metadata": {
        "id": "W2g5uNNwKNo3",
        "colab": {
          "base_uri": "https://localhost:8080/",
          "height": 110
        },
        "outputId": "8675b900-91ca-40f7-b0db-b60be8283552"
      },
      "source": [
        "# Prediccion con K = 1 y K = 3\n",
        "K = np.array([1,3])\n",
        "Prediccion = pd.DataFrame({'X1':[],'X2':[],'X3':[],'K':[],'Y':[]})\n",
        "for i in K:\n",
        "  datosK = new_datos[0:i]\n",
        "  Y = ((datosK['Y'].value_counts())/i).idxmax()\n",
        "  Prediccion = Prediccion.append(pd.Series([0,0,0,i,Y],index=['X1','X2','X3','K','Y']),ignore_index=True)\n",
        "pd.options.display.float_format = '{:,.0f}'.format\n",
        "Prediccion"
      ],
      "execution_count": 8,
      "outputs": [
        {
          "output_type": "execute_result",
          "data": {
            "text/html": [
              "<div>\n",
              "<style scoped>\n",
              "    .dataframe tbody tr th:only-of-type {\n",
              "        vertical-align: middle;\n",
              "    }\n",
              "\n",
              "    .dataframe tbody tr th {\n",
              "        vertical-align: top;\n",
              "    }\n",
              "\n",
              "    .dataframe thead th {\n",
              "        text-align: right;\n",
              "    }\n",
              "</style>\n",
              "<table border=\"1\" class=\"dataframe\">\n",
              "  <thead>\n",
              "    <tr style=\"text-align: right;\">\n",
              "      <th></th>\n",
              "      <th>X1</th>\n",
              "      <th>X2</th>\n",
              "      <th>X3</th>\n",
              "      <th>K</th>\n",
              "      <th>Y</th>\n",
              "    </tr>\n",
              "  </thead>\n",
              "  <tbody>\n",
              "    <tr>\n",
              "      <th>0</th>\n",
              "      <td>0</td>\n",
              "      <td>0</td>\n",
              "      <td>0</td>\n",
              "      <td>1</td>\n",
              "      <td>Verde</td>\n",
              "    </tr>\n",
              "    <tr>\n",
              "      <th>1</th>\n",
              "      <td>0</td>\n",
              "      <td>0</td>\n",
              "      <td>0</td>\n",
              "      <td>3</td>\n",
              "      <td>Rojo</td>\n",
              "    </tr>\n",
              "  </tbody>\n",
              "</table>\n",
              "</div>"
            ],
            "text/plain": [
              "   X1  X2  X3  K      Y\n",
              "0   0   0   0  1  Verde\n",
              "1   0   0   0  3   Rojo"
            ]
          },
          "metadata": {},
          "execution_count": 8
        }
      ]
    },
    {
      "cell_type": "markdown",
      "metadata": {
        "id": "6lj6nbgMiuUx"
      },
      "source": [
        "## **Pregunta 3**"
      ]
    },
    {
      "cell_type": "code",
      "metadata": {
        "id": "yRUJKQsSjojP"
      },
      "source": [
        "import numpy as np\n",
        "import matplotlib.pyplot as plt\n",
        "import pandas as pd\n",
        "import sklearn\n",
        "np.warnings.filterwarnings('ignore', category=np.VisibleDeprecationWarning)"
      ],
      "execution_count": null,
      "outputs": []
    },
    {
      "cell_type": "code",
      "metadata": {
        "id": "d-jxhUH6jjrX"
      },
      "source": [
        "# Importar los datos\n",
        "dataset = pd.read_csv('gustos_musicales.txt', sep=\",\",index_col=0,skipinitialspace = True)\n",
        "mapping = {'si': 1, 'no': 0}\n",
        "for i in dataset.columns[0:-1]:\n",
        "  dataset = dataset.replace({i: mapping})"
      ],
      "execution_count": null,
      "outputs": []
    },
    {
      "cell_type": "code",
      "metadata": {
        "id": "2KPgvXEylI-O"
      },
      "source": [
        "# Definir conjuntos de valores \n",
        "X = dataset.iloc[:, 0:-1].values\n",
        "y = dataset.iloc[:, -1].values"
      ],
      "execution_count": null,
      "outputs": []
    },
    {
      "cell_type": "code",
      "metadata": {
        "id": "U-d3ZDpoytCn",
        "colab": {
          "base_uri": "https://localhost:8080/"
        },
        "outputId": "73cf720b-1a43-4103-e365-c9b0552489c3"
      },
      "source": [
        "# Crear el modelo de Bayes ingenuo\n",
        "from sklearn.naive_bayes import GaussianNB\n",
        "classifier = GaussianNB()\n",
        "classifier.fit(X, y)"
      ],
      "execution_count": null,
      "outputs": [
        {
          "output_type": "execute_result",
          "data": {
            "text/plain": [
              "GaussianNB(priors=None, var_smoothing=1e-09)"
            ]
          },
          "metadata": {},
          "execution_count": 9
        }
      ]
    },
    {
      "cell_type": "code",
      "metadata": {
        "id": "N0bAGOgAy_T4",
        "colab": {
          "base_uri": "https://localhost:8080/"
        },
        "outputId": "cd3c4109-26eb-4615-db9d-e2ca1c2f917e"
      },
      "source": [
        "# Predecir el valor de un X con el modelo ajustado\n",
        "X_test1 = np.array([[1,1,1,0,1,1,0,1,1,1]])\n",
        "y_pred  =  classifier.predict(X_test1)\n",
        "print(y_pred)"
      ],
      "execution_count": null,
      "outputs": [
        {
          "output_type": "stream",
          "name": "stdout",
          "text": [
            "[0]\n"
          ]
        }
      ]
    },
    {
      "cell_type": "code",
      "metadata": {
        "id": "0lDYrlaG5ZzA",
        "colab": {
          "base_uri": "https://localhost:8080/",
          "height": 318
        },
        "outputId": "dc1a1d2b-8297-4c0a-a725-3e4dd373a0eb"
      },
      "source": [
        "# Graficar las distribuciones marginales\n",
        "import matplotlib.pyplot as plt\n",
        "fig, axs = plt.subplots(2, 5,sharex=True,sharey=True,figsize=(15,5))\n",
        "m = 0\n",
        "for i in dataset.columns[0:-1]:\n",
        "  data1 = dataset[dataset[i] == 1]['etiqueta']\n",
        "  data0 = dataset[dataset[i] == 0]['etiqueta']\n",
        "  if m <5:\n",
        "    axs[0,m].hist([data1.values,data0.values],bins=2,stacked=True,edgecolor='black', linewidth=1.2,density=True)\n",
        "    axs[0,m].set_title(i)\n",
        "    m = m+1\n",
        "  else:\n",
        "    axs[1,m-5].hist([data1.values,data0.values],bins=2,stacked=True,edgecolor='black', linewidth=1.2,density=True)\n",
        "    axs[1,m-5].set_title(i)\n",
        "    axs[1,m-5].set_xticks(np.arange(0, 1.1, step=1))\n",
        "    m = m+1\n",
        "#plt.yticks([])\n",
        "fig.tight_layout() \n",
        "fig.subplots_adjust(bottom=0.15)   ##  Need to play with this number.\n",
        "fig.legend(labels=[\"Si\", \"No\"], loc=\"lower center\", ncol=4, prop={'size': 16}) \n",
        "plt.show()  \n",
        "plt.savefig('hist.pdf') "
      ],
      "execution_count": null,
      "outputs": [
        {
          "output_type": "display_data",
          "data": {
            "image/png": "[encoded data removed]",
            "text/plain": [
              "<Figure size 1080x360 with 10 Axes>"
            ]
          },
          "metadata": {
            "needs_background": "light"
          }
        },
        {
          "output_type": "display_data",
          "data": {
            "text/plain": [
              "<Figure size 432x288 with 0 Axes>"
            ]
          },
          "metadata": {}
        }
      ]
    },
    {
      "cell_type": "code",
      "metadata": {
        "id": "0thzxLBZ5gQP",
        "colab": {
          "base_uri": "https://localhost:8080/"
        },
        "outputId": "66875007-e4af-4608-ca51-c7969203962c"
      },
      "source": [
        "# Ajustar modelo binomial\n",
        "from scipy.stats import binom\n",
        "n = dataset.shape[0]\n",
        "for j in range(n):\n",
        "  X_test = X[j,:]\n",
        "  n1 = len(np.where(y==1)[0])\n",
        "  n0 = len(np.where(y==0)[0])\n",
        "  theta1 = n1/n\n",
        "  theta0 = n0/n\n",
        "  p1 = np.empty((1,10))\n",
        "  p0 = np.empty((1,10))\n",
        "  for i in range(len(dataset.columns[0:-1])):\n",
        "    n11 = len(np.intersect1d(np.where(X[:,i]==1),np.where(y==1)))\n",
        "    p1[0,i] = binom.pmf(X_test[i],1,n11/n1)\n",
        "    n10 = len(np.intersect1d(np.where(X[:,i]==1),np.where(y==0)))\n",
        "    p0[0,i] = binom.pmf(X_test[i],1,n10/n0)\n",
        "  h1 = theta1*np.prod(p1)  \n",
        "  h0 = theta0*np.prod(p0)\n",
        "  if h1>h0:\n",
        "    Pred = 1\n",
        "  else:\n",
        "    Pred = 0\n",
        "  print(Pred)"
      ],
      "execution_count": null,
      "outputs": [
        {
          "output_type": "stream",
          "name": "stdout",
          "text": [
            "0\n",
            "0\n",
            "0\n",
            "0\n",
            "0\n",
            "1\n",
            "1\n",
            "1\n",
            "1\n",
            "1\n"
          ]
        }
      ]
    },
    {
      "cell_type": "code",
      "metadata": {
        "id": "xuObrJUQ72nK",
        "colab": {
          "base_uri": "https://localhost:8080/"
        },
        "outputId": "6cb8104e-8846-400d-d1b6-736062df1eea"
      },
      "source": [
        "# Clasificacion segun gustos musicales propios\n",
        "X_test = X_test1[0]\n",
        "p1 = np.empty((1,10))\n",
        "p0 = np.empty((1,10))\n",
        "for i in range(len(dataset.columns[0:-1])):\n",
        "  n11 = len(np.intersect1d(np.where(X[:,i]==1),np.where(y==1)))\n",
        "  p1[0,i] = binom.pmf(X_test[i],1,n11/n1)\n",
        "  n10 = len(np.intersect1d(np.where(X[:,i]==1),np.where(y==0)))\n",
        "  p0[0,i] = binom.pmf(X_test[i],1,n10/n0)\n",
        "h1 = theta1*np.prod(p1)  \n",
        "h0 = theta0*np.prod(p0)\n",
        "if h1>h0:\n",
        "  Pred = 1\n",
        "else:\n",
        "  Pred = 0\n",
        "  print(Pred)"
      ],
      "execution_count": null,
      "outputs": [
        {
          "output_type": "stream",
          "name": "stdout",
          "text": [
            "0\n"
          ]
        }
      ]
    },
    {
      "cell_type": "markdown",
      "metadata": {
        "id": "n9Y8i0z_d13K"
      },
      "source": [
        "## **Pregunta 4**"
      ]
    },
    {
      "cell_type": "code",
      "metadata": {
        "colab": {
          "base_uri": "https://localhost:8080/"
        },
        "id": "CtV_1V9md1fy",
        "outputId": "f6cd3703-7eee-472f-ad05-a7da0b9b4956"
      },
      "source": [
        "# Importar librerías\n",
        "import numpy as np\n",
        "import pandas as pd\n",
        "import statsmodels.formula.api as smf\n",
        "import statsmodels.api as sm"
      ],
      "execution_count": null,
      "outputs": [
        {
          "output_type": "stream",
          "name": "stderr",
          "text": [
            "/usr/local/lib/python3.7/dist-packages/statsmodels/tools/_testing.py:19: FutureWarning: pandas.util.testing is deprecated. Use the functions in the public API at pandas.testing instead.\n",
            "  import pandas.util.testing as tm\n"
          ]
        }
      ]
    },
    {
      "cell_type": "code",
      "metadata": {
        "colab": {
          "base_uri": "https://localhost:8080/",
          "height": 447
        },
        "id": "0_B9sVnNeTVD",
        "outputId": "575feb51-fe3f-45b5-fc27-dbb4ead6cf52"
      },
      "source": [
        "# Importar datos\n",
        "df = pd.read_csv('datos_heart_disease.txt', sep=\",\",index_col=0,skipinitialspace = True)\n",
        "mapping = {'Present': 1, 'Absent': 0}\n",
        "df = df.replace({'famhist': mapping})\n",
        "df"
      ],
      "execution_count": null,
      "outputs": [
        {
          "output_type": "execute_result",
          "data": {
            "text/html": [
              "<div>\n",
              "<style scoped>\n",
              "    .dataframe tbody tr th:only-of-type {\n",
              "        vertical-align: middle;\n",
              "    }\n",
              "\n",
              "    .dataframe tbody tr th {\n",
              "        vertical-align: top;\n",
              "    }\n",
              "\n",
              "    .dataframe thead th {\n",
              "        text-align: right;\n",
              "    }\n",
              "</style>\n",
              "<table border=\"1\" class=\"dataframe\">\n",
              "  <thead>\n",
              "    <tr style=\"text-align: right;\">\n",
              "      <th></th>\n",
              "      <th>sbp</th>\n",
              "      <th>tobacco</th>\n",
              "      <th>ldl</th>\n",
              "      <th>adiposity</th>\n",
              "      <th>famhist</th>\n",
              "      <th>typea</th>\n",
              "      <th>obesity</th>\n",
              "      <th>alcohol</th>\n",
              "      <th>age</th>\n",
              "      <th>chd</th>\n",
              "    </tr>\n",
              "    <tr>\n",
              "      <th>row.names</th>\n",
              "      <th></th>\n",
              "      <th></th>\n",
              "      <th></th>\n",
              "      <th></th>\n",
              "      <th></th>\n",
              "      <th></th>\n",
              "      <th></th>\n",
              "      <th></th>\n",
              "      <th></th>\n",
              "      <th></th>\n",
              "    </tr>\n",
              "  </thead>\n",
              "  <tbody>\n",
              "    <tr>\n",
              "      <th>1</th>\n",
              "      <td>160</td>\n",
              "      <td>12</td>\n",
              "      <td>6</td>\n",
              "      <td>23</td>\n",
              "      <td>1</td>\n",
              "      <td>49</td>\n",
              "      <td>25</td>\n",
              "      <td>97</td>\n",
              "      <td>52</td>\n",
              "      <td>1</td>\n",
              "    </tr>\n",
              "    <tr>\n",
              "      <th>2</th>\n",
              "      <td>144</td>\n",
              "      <td>0</td>\n",
              "      <td>4</td>\n",
              "      <td>29</td>\n",
              "      <td>0</td>\n",
              "      <td>55</td>\n",
              "      <td>29</td>\n",
              "      <td>2</td>\n",
              "      <td>63</td>\n",
              "      <td>1</td>\n",
              "    </tr>\n",
              "    <tr>\n",
              "      <th>3</th>\n",
              "      <td>118</td>\n",
              "      <td>0</td>\n",
              "      <td>3</td>\n",
              "      <td>32</td>\n",
              "      <td>1</td>\n",
              "      <td>52</td>\n",
              "      <td>29</td>\n",
              "      <td>4</td>\n",
              "      <td>46</td>\n",
              "      <td>0</td>\n",
              "    </tr>\n",
              "    <tr>\n",
              "      <th>4</th>\n",
              "      <td>170</td>\n",
              "      <td>8</td>\n",
              "      <td>6</td>\n",
              "      <td>38</td>\n",
              "      <td>1</td>\n",
              "      <td>51</td>\n",
              "      <td>32</td>\n",
              "      <td>24</td>\n",
              "      <td>58</td>\n",
              "      <td>1</td>\n",
              "    </tr>\n",
              "    <tr>\n",
              "      <th>5</th>\n",
              "      <td>134</td>\n",
              "      <td>14</td>\n",
              "      <td>4</td>\n",
              "      <td>28</td>\n",
              "      <td>1</td>\n",
              "      <td>60</td>\n",
              "      <td>26</td>\n",
              "      <td>57</td>\n",
              "      <td>49</td>\n",
              "      <td>1</td>\n",
              "    </tr>\n",
              "    <tr>\n",
              "      <th>...</th>\n",
              "      <td>...</td>\n",
              "      <td>...</td>\n",
              "      <td>...</td>\n",
              "      <td>...</td>\n",
              "      <td>...</td>\n",
              "      <td>...</td>\n",
              "      <td>...</td>\n",
              "      <td>...</td>\n",
              "      <td>...</td>\n",
              "      <td>...</td>\n",
              "    </tr>\n",
              "    <tr>\n",
              "      <th>459</th>\n",
              "      <td>214</td>\n",
              "      <td>0</td>\n",
              "      <td>6</td>\n",
              "      <td>32</td>\n",
              "      <td>0</td>\n",
              "      <td>64</td>\n",
              "      <td>28</td>\n",
              "      <td>0</td>\n",
              "      <td>58</td>\n",
              "      <td>0</td>\n",
              "    </tr>\n",
              "    <tr>\n",
              "      <th>460</th>\n",
              "      <td>182</td>\n",
              "      <td>4</td>\n",
              "      <td>4</td>\n",
              "      <td>32</td>\n",
              "      <td>0</td>\n",
              "      <td>52</td>\n",
              "      <td>29</td>\n",
              "      <td>19</td>\n",
              "      <td>52</td>\n",
              "      <td>1</td>\n",
              "    </tr>\n",
              "    <tr>\n",
              "      <th>461</th>\n",
              "      <td>108</td>\n",
              "      <td>3</td>\n",
              "      <td>2</td>\n",
              "      <td>15</td>\n",
              "      <td>0</td>\n",
              "      <td>40</td>\n",
              "      <td>20</td>\n",
              "      <td>27</td>\n",
              "      <td>55</td>\n",
              "      <td>0</td>\n",
              "    </tr>\n",
              "    <tr>\n",
              "      <th>462</th>\n",
              "      <td>118</td>\n",
              "      <td>5</td>\n",
              "      <td>12</td>\n",
              "      <td>31</td>\n",
              "      <td>0</td>\n",
              "      <td>64</td>\n",
              "      <td>27</td>\n",
              "      <td>24</td>\n",
              "      <td>40</td>\n",
              "      <td>0</td>\n",
              "    </tr>\n",
              "    <tr>\n",
              "      <th>463</th>\n",
              "      <td>132</td>\n",
              "      <td>0</td>\n",
              "      <td>5</td>\n",
              "      <td>33</td>\n",
              "      <td>1</td>\n",
              "      <td>62</td>\n",
              "      <td>15</td>\n",
              "      <td>0</td>\n",
              "      <td>46</td>\n",
              "      <td>1</td>\n",
              "    </tr>\n",
              "  </tbody>\n",
              "</table>\n",
              "<p>462 rows × 10 columns</p>\n",
              "</div>"
            ],
            "text/plain": [
              "           sbp  tobacco  ldl  adiposity  ...  obesity  alcohol  age  chd\n",
              "row.names                                ...                            \n",
              "1          160       12    6         23  ...       25       97   52    1\n",
              "2          144        0    4         29  ...       29        2   63    1\n",
              "3          118        0    3         32  ...       29        4   46    0\n",
              "4          170        8    6         38  ...       32       24   58    1\n",
              "5          134       14    4         28  ...       26       57   49    1\n",
              "...        ...      ...  ...        ...  ...      ...      ...  ...  ...\n",
              "459        214        0    6         32  ...       28        0   58    0\n",
              "460        182        4    4         32  ...       29       19   52    1\n",
              "461        108        3    2         15  ...       20       27   55    0\n",
              "462        118        5   12         31  ...       27       24   40    0\n",
              "463        132        0    5         33  ...       15        0   46    1\n",
              "\n",
              "[462 rows x 10 columns]"
            ]
          },
          "metadata": {},
          "execution_count": 15
        }
      ]
    },
    {
      "cell_type": "code",
      "metadata": {
        "colab": {
          "base_uri": "https://localhost:8080/"
        },
        "id": "VO4NPSg0fz8I",
        "outputId": "35a36455-634c-4e82-ad5f-5783ea0785e4"
      },
      "source": [
        "# Crear modelo logit y aplicar test de Wald\n",
        "cov = ['sbp','tobacco','ldl','famhist','obesity','alcohol','age']\n",
        "labels = cov.copy()\n",
        "labels[0] = 'chd ~ '+labels[0]\n",
        "aux = '+'.join(labels)\n",
        "model = smf.glm(aux, data = df, family = sm.families.Binomial())\n",
        "result = model.fit()\n",
        "print(result.summary())"
      ],
      "execution_count": null,
      "outputs": [
        {
          "output_type": "stream",
          "name": "stdout",
          "text": [
            "                 Generalized Linear Model Regression Results                  \n",
            "==============================================================================\n",
            "Dep. Variable:                    chd   No. Observations:                  462\n",
            "Model:                            GLM   Df Residuals:                      454\n",
            "Model Family:                Binomial   Df Model:                            7\n",
            "Link Function:                  logit   Scale:                          1.0000\n",
            "Method:                          IRLS   Log-Likelihood:                -241.59\n",
            "Date:                Tue, 05 Oct 2021   Deviance:                       483.17\n",
            "Time:                        20:14:10   Pearson chi2:                     459.\n",
            "No. Iterations:                     5                                         \n",
            "Covariance Type:            nonrobust                                         \n",
            "==============================================================================\n",
            "                 coef    std err          z      P>|z|      [0.025      0.975]\n",
            "------------------------------------------------------------------------------\n",
            "Intercept     -4.1296      0.964     -4.283      0.000      -6.019      -2.240\n",
            "sbp            0.0058      0.006      1.023      0.306      -0.005       0.017\n",
            "tobacco        0.0795      0.026      3.034      0.002       0.028       0.131\n",
            "ldl            0.1848      0.057      3.218      0.001       0.072       0.297\n",
            "famhist        0.9392      0.225      4.177      0.000       0.498       1.380\n",
            "obesity       -0.0345      0.029     -1.187      0.235      -0.092       0.023\n",
            "alcohol        0.0006      0.004      0.136      0.892      -0.008       0.009\n",
            "age            0.0425      0.010      4.181      0.000       0.023       0.062\n",
            "==============================================================================\n"
          ]
        }
      ]
    },
    {
      "cell_type": "code",
      "metadata": {
        "colab": {
          "base_uri": "https://localhost:8080/"
        },
        "id": "EYS6uzb3gIkT",
        "outputId": "1d1cb2c6-d035-4139-a82a-664ac4daea7a"
      },
      "source": [
        "# Eliminar covariable menos significativa 1\n",
        "label = abs(result.tvalues).idxmin()\n",
        "print('Eliminar covariable menos significativa: ',label)\n",
        "cov.remove(label)\n",
        "labels = cov.copy()\n",
        "labels[0] = 'chd ~ '+labels[0]\n",
        "aux = '+'.join(labels)\n",
        "model = smf.glm(aux, data = df, family = sm.families.Binomial())\n",
        "result = model.fit()\n",
        "print(result.summary())"
      ],
      "execution_count": null,
      "outputs": [
        {
          "output_type": "stream",
          "name": "stdout",
          "text": [
            "Eliminar covariable menos significativa:  alcohol\n",
            "                 Generalized Linear Model Regression Results                  \n",
            "==============================================================================\n",
            "Dep. Variable:                    chd   No. Observations:                  462\n",
            "Model:                            GLM   Df Residuals:                      455\n",
            "Model Family:                Binomial   Df Model:                            6\n",
            "Link Function:                  logit   Scale:                          1.0000\n",
            "Method:                          IRLS   Log-Likelihood:                -241.60\n",
            "Date:                Tue, 05 Oct 2021   Deviance:                       483.19\n",
            "Time:                        20:14:10   Pearson chi2:                     458.\n",
            "No. Iterations:                     5                                         \n",
            "Covariance Type:            nonrobust                                         \n",
            "==============================================================================\n",
            "                 coef    std err          z      P>|z|      [0.025      0.975]\n",
            "------------------------------------------------------------------------------\n",
            "Intercept     -4.1278      0.964     -4.283      0.000      -6.017      -2.239\n",
            "sbp            0.0059      0.006      1.050      0.294      -0.005       0.017\n",
            "tobacco        0.0802      0.026      3.117      0.002       0.030       0.131\n",
            "ldl            0.1842      0.057      3.218      0.001       0.072       0.296\n",
            "famhist        0.9413      0.224      4.196      0.000       0.502       1.381\n",
            "obesity       -0.0345      0.029     -1.187      0.235      -0.092       0.022\n",
            "age            0.0424      0.010      4.187      0.000       0.023       0.062\n",
            "==============================================================================\n"
          ]
        }
      ]
    },
    {
      "cell_type": "code",
      "metadata": {
        "colab": {
          "base_uri": "https://localhost:8080/"
        },
        "id": "wgLGGJJXxcZl",
        "outputId": "8133ecf9-2b5c-4e09-d0bc-3e86b6c02099"
      },
      "source": [
        "# Eliminar covariable menos significativa 2\n",
        "label = abs(result.tvalues).idxmin()\n",
        "print('Eliminar covariable menos significativa: ',label)\n",
        "cov.remove(label)\n",
        "labels = cov.copy()\n",
        "labels[0] = 'chd ~ '+labels[0]\n",
        "aux = '+'.join(labels)\n",
        "model = smf.glm(aux, data = df, family = sm.families.Binomial())\n",
        "result = model.fit()\n",
        "print(result.summary())"
      ],
      "execution_count": null,
      "outputs": [
        {
          "output_type": "stream",
          "name": "stdout",
          "text": [
            "Eliminar covariable menos significativa:  sbp\n",
            "                 Generalized Linear Model Regression Results                  \n",
            "==============================================================================\n",
            "Dep. Variable:                    chd   No. Observations:                  462\n",
            "Model:                            GLM   Df Residuals:                      456\n",
            "Model Family:                Binomial   Df Model:                            5\n",
            "Link Function:                  logit   Scale:                          1.0000\n",
            "Method:                          IRLS   Log-Likelihood:                -242.15\n",
            "Date:                Tue, 05 Oct 2021   Deviance:                       484.30\n",
            "Time:                        20:14:10   Pearson chi2:                     457.\n",
            "No. Iterations:                     5                                         \n",
            "Covariance Type:            nonrobust                                         \n",
            "==============================================================================\n",
            "                 coef    std err          z      P>|z|      [0.025      0.975]\n",
            "------------------------------------------------------------------------------\n",
            "Intercept     -3.5466      0.786     -4.511      0.000      -5.088      -2.006\n",
            "tobacco        0.0808      0.026      3.154      0.002       0.031       0.131\n",
            "ldl            0.1852      0.057      3.237      0.001       0.073       0.297\n",
            "famhist        0.9330      0.224      4.169      0.000       0.494       1.372\n",
            "obesity       -0.0305      0.029     -1.063      0.288      -0.087       0.026\n",
            "age            0.0453      0.010      4.630      0.000       0.026       0.064\n",
            "==============================================================================\n"
          ]
        }
      ]
    },
    {
      "cell_type": "code",
      "metadata": {
        "colab": {
          "base_uri": "https://localhost:8080/"
        },
        "id": "-N9wLazHxkey",
        "outputId": "6f8697ab-99a4-4e78-89eb-f638373fbfd5"
      },
      "source": [
        "# Eliminar covariable menos significativa 3\n",
        "label = abs(result.tvalues).idxmin()\n",
        "print('Eliminar covariable menos significativa: ',label)\n",
        "cov.remove(label)\n",
        "labels = cov.copy()\n",
        "labels[0] = 'chd ~ '+labels[0]\n",
        "aux = '+'.join(labels)\n",
        "model = smf.glm(aux, data = df, family = sm.families.Binomial())\n",
        "result = model.fit()\n",
        "print(result.summary())"
      ],
      "execution_count": null,
      "outputs": [
        {
          "output_type": "stream",
          "name": "stdout",
          "text": [
            "Eliminar covariable menos significativa:  obesity\n",
            "                 Generalized Linear Model Regression Results                  \n",
            "==============================================================================\n",
            "Dep. Variable:                    chd   No. Observations:                  462\n",
            "Model:                            GLM   Df Residuals:                      457\n",
            "Model Family:                Binomial   Df Model:                            4\n",
            "Link Function:                  logit   Scale:                          1.0000\n",
            "Method:                          IRLS   Log-Likelihood:                -242.72\n",
            "Date:                Tue, 05 Oct 2021   Deviance:                       485.44\n",
            "Time:                        20:14:10   Pearson chi2:                     460.\n",
            "No. Iterations:                     5                                         \n",
            "Covariance Type:            nonrobust                                         \n",
            "==============================================================================\n",
            "                 coef    std err          z      P>|z|      [0.025      0.975]\n",
            "------------------------------------------------------------------------------\n",
            "Intercept     -4.2043      0.498     -8.436      0.000      -5.181      -3.228\n",
            "tobacco        0.0807      0.026      3.163      0.002       0.031       0.131\n",
            "ldl            0.1676      0.054      3.093      0.002       0.061       0.274\n",
            "famhist        0.9241      0.223      4.141      0.000       0.487       1.362\n",
            "age            0.0440      0.010      4.520      0.000       0.025       0.063\n",
            "==============================================================================\n"
          ]
        }
      ]
    },
    {
      "cell_type": "code",
      "metadata": {
        "colab": {
          "base_uri": "https://localhost:8080/"
        },
        "id": "KuZt0uL4CUi0",
        "outputId": "b267fa3a-eb1b-4c72-b4e3-0e2c2fb670c1"
      },
      "source": [
        "# Covariables que sobreviven\n",
        "print('Covariables que sobreviven:',cov)"
      ],
      "execution_count": null,
      "outputs": [
        {
          "output_type": "stream",
          "name": "stdout",
          "text": [
            "Covariables que sobreviven: ['tobacco', 'ldl', 'famhist', 'age']\n"
          ]
        }
      ]
    }
  ]
}